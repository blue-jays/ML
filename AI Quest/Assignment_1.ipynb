{
 "cells": [
  {
   "cell_type": "code",
   "execution_count": 1,
   "metadata": {},
   "outputs": [
    {
     "name": "stdout",
     "output_type": "stream",
     "text": [
      "The value of var1 is 100 and the value of var2 is 200\n",
      "Now the value of the var1 is 200 and var2 is 100\n"
     ]
    }
   ],
   "source": [
    "#1 Write a program that swaps the 2 values of variables.\n",
    "var1 = 100\n",
    "var2 = 200\n",
    "print(f\"The value of var1 is {var1} and the value of var2 is {var2}\")\n",
    "var1, var2 = var2, var1 # Using tuple unpacking.\n",
    "\n",
    "print(f\"Now the value of the var1 is {var1} and var2 is {var2}\")\n"
   ]
  },
  {
   "cell_type": "code",
   "execution_count": 2,
   "metadata": {},
   "outputs": [
    {
     "name": "stdout",
     "output_type": "stream",
     "text": [
      "The area of the rectangle is 5000\n"
     ]
    }
   ],
   "source": [
    "#2 Calculating the area of rectangle.\n",
    "length = 100\n",
    "width = 50\n",
    "area = length*width\n",
    "print(f\"The area of the rectangle is {area}\")"
   ]
  },
  {
   "cell_type": "code",
   "execution_count": 3,
   "metadata": {},
   "outputs": [
    {
     "name": "stdout",
     "output_type": "stream",
     "text": [
      "-40.0\n"
     ]
    }
   ],
   "source": [
    "#3 Convert temperature from Farhenheit to Celcius.\n",
    "temp = -40\n",
    "Conv = (temp-32)/1.8\n",
    "print(f\"{Conv}\")"
   ]
  },
  {
   "cell_type": "code",
   "execution_count": 4,
   "metadata": {},
   "outputs": [
    {
     "name": "stdout",
     "output_type": "stream",
     "text": [
      "4188.8\n"
     ]
    }
   ],
   "source": [
    "#4 Write a program calculate the volume a sphere given its radius.\n",
    "radius = 10\n",
    "PI = 3.1416\n",
    "Volume = 4/3*PI*radius**3\n",
    "print(round(Volume,2))"
   ]
  },
  {
   "cell_type": "code",
   "execution_count": 3,
   "metadata": {},
   "outputs": [
    {
     "name": "stdout",
     "output_type": "stream",
     "text": [
      "This program finds the average of number\n",
      "The average is 2.0\n"
     ]
    }
   ],
   "source": [
    "#5 Write a program that finds the average of 3 number.\n",
    "print(\"This program finds the average of number\")\n",
    "num = int(input(\"Tell me how many numbers you want to find average?\"))\n",
    "sum = 0\n",
    "for i in range(num):\n",
    "    num1 = int(input(\"Give me the number:\"))\n",
    "    sum = sum + num1\n",
    "avg = sum/num\n",
    "print(f\"The average is {avg}\")\n"
   ]
  },
  {
   "cell_type": "code",
   "execution_count": 6,
   "metadata": {},
   "outputs": [
    {
     "name": "stdout",
     "output_type": "stream",
     "text": [
      "It is an even number\n"
     ]
    }
   ],
   "source": [
    "#6 Write a program that determines if aa number is odd or even \n",
    "num = int(input(\"Enter the number you want to check if it is odd or even\"))\n",
    "if num == 0:\n",
    "    print(\"This is an unique number\")\n",
    "elif num%2 == 0:\n",
    "    print(\"It is an even number\")\n",
    "else:\n",
    "    print(\"It is an odd number\")"
   ]
  },
  {
   "cell_type": "code",
   "execution_count": 7,
   "metadata": {},
   "outputs": [
    {
     "name": "stdout",
     "output_type": "stream",
     "text": [
      "The smallest number is 1\n"
     ]
    }
   ],
   "source": [
    "#7 Write a program that finds the maximum of 3 numbers\n",
    "list = []\n",
    "flag = True\n",
    "while flag:\n",
    "    var = int(input(\"Enter the number:\"))\n",
    "    list.append(var)\n",
    "    if var == 00:\n",
    "        flag = False\n",
    "list.sort\n",
    "print(f\"The smallest number is {list[0]}\")"
   ]
  },
  {
   "cell_type": "code",
   "execution_count": 8,
   "metadata": {},
   "outputs": [
    {
     "name": "stdout",
     "output_type": "stream",
     "text": [
      "This is not a leap year\n"
     ]
    }
   ],
   "source": [
    "#8 Write a program that determines if a year is leap year or not? \n",
    "year = int (input(\"Enter the year you want to check.\"))\n",
    "if year <=0:\n",
    "    print(\"Not a valid number. Try again\")\n",
    "elif year % 4:\n",
    "    print(\"This is a  leap year\")\n",
    "else:\n",
    "    print(\"This is not a leap year\")\n",
    "    "
   ]
  },
  {
   "cell_type": "code",
   "execution_count": 9,
   "metadata": {},
   "outputs": [
    {
     "name": "stdout",
     "output_type": "stream",
     "text": [
      "It is a negative number\n"
     ]
    }
   ],
   "source": [
    "#9 Write a program that determines if a number is positive or negative or 0\n",
    "\n",
    "num = int(input(\"Enter the number:\"))\n",
    "if num == 0:\n",
    "    print(\"It is 0, a neutral number\")\n",
    "elif num>0:\n",
    "    print(\"It is a positive number\")\n",
    "else:\n",
    "    print(\"It is a negative number\")"
   ]
  },
  {
   "cell_type": "code",
   "execution_count": 10,
   "metadata": {},
   "outputs": [
    {
     "name": "stdout",
     "output_type": "stream",
     "text": [
      "C\n"
     ]
    }
   ],
   "source": [
    "#10 Write a program that creates grade based on given %\n",
    "\n",
    "percentage = int(input(\"Enter the % of exam:\"))\n",
    "if percentage<50:\n",
    "    print(\"U\")\n",
    "elif percentage<= 60 and percentage>50:\n",
    "    print(\"D\") \n",
    "elif percentage<= 70 and percentage>60:\n",
    "    print(\"C\")\n",
    "elif percentage<= 80 and percentage>70:\n",
    "    print(\"B\")\n",
    "else:\n",
    "    print(\"A\")"
   ]
  },
  {
   "cell_type": "code",
   "execution_count": 12,
   "metadata": {},
   "outputs": [
    {
     "name": "stdout",
     "output_type": "stream",
     "text": [
      "1\n",
      "2\n",
      "3\n",
      "4\n",
      "5\n",
      "6\n",
      "7\n",
      "8\n",
      "9\n",
      "10\n",
      "11\n",
      "12\n",
      "13\n",
      "14\n",
      "15\n",
      "16\n",
      "17\n",
      "18\n",
      "19\n",
      "20\n",
      "21\n",
      "22\n",
      "23\n",
      "24\n",
      "25\n",
      "26\n",
      "27\n",
      "28\n",
      "29\n",
      "30\n",
      "31\n",
      "32\n",
      "33\n",
      "34\n",
      "35\n",
      "36\n",
      "37\n",
      "38\n",
      "39\n",
      "40\n",
      "41\n",
      "42\n",
      "43\n",
      "44\n",
      "45\n",
      "46\n",
      "47\n",
      "48\n",
      "49\n",
      "50\n",
      "51\n",
      "52\n",
      "53\n",
      "54\n",
      "55\n",
      "56\n",
      "57\n",
      "58\n",
      "59\n",
      "60\n",
      "61\n",
      "62\n",
      "63\n",
      "64\n",
      "65\n",
      "66\n",
      "67\n",
      "68\n",
      "69\n",
      "70\n",
      "71\n",
      "72\n",
      "73\n",
      "74\n",
      "75\n",
      "76\n",
      "77\n",
      "78\n",
      "79\n",
      "80\n",
      "81\n",
      "82\n",
      "83\n",
      "84\n",
      "85\n",
      "86\n",
      "87\n",
      "88\n",
      "89\n",
      "90\n",
      "91\n",
      "92\n",
      "93\n",
      "94\n",
      "95\n",
      "96\n",
      "97\n",
      "98\n",
      "99\n",
      "100\n"
     ]
    }
   ],
   "source": [
    "#11 Write a program that prints the first n natural numbers.\n",
    "\n",
    "num = int(input(\"Give the value of n\"))\n",
    "sum = 0\n",
    "for i in range(num):\n",
    "    sum = sum + 1\n",
    "    print(sum)"
   ]
  },
  {
   "cell_type": "code",
   "execution_count": 20,
   "metadata": {},
   "outputs": [
    {
     "name": "stdout",
     "output_type": "stream",
     "text": [
      "120\n"
     ]
    }
   ],
   "source": [
    "# Write a program that calculates the factorial of a number\n",
    "def factorial(n):\n",
    "\n",
    "    if n==0 or n==1:\n",
    "        return 1\n",
    "    elif n<0:\n",
    "        return \n",
    "    else:\n",
    "       res = n*factorial(n-1)\n",
    "    return res\n",
    "\n",
    "num = int(input(\"Enter the factorial of the number you want\"))\n",
    "print(factorial(num))"
   ]
  },
  {
   "cell_type": "code",
   "execution_count": 57,
   "metadata": {},
   "outputs": [
    {
     "name": "stdout",
     "output_type": "stream",
     "text": [
      "The 6th term of the Fibonacci sequence is: 8\n"
     ]
    }
   ],
   "source": [
    "def Fibonacci(n):\n",
    "    if n <= 0:\n",
    "        return 0\n",
    "    elif n == 1:\n",
    "        return 1\n",
    "    else:\n",
    "        return Fibonacci(n-1) + Fibonacci(n-2)\n",
    "\n",
    "n = int(input(\"Enter the term number you want: \"))\n",
    "print(f\"The {n}th term of the Fibonacci sequence is: {Fibonacci(n)}\")"
   ]
  },
  {
   "cell_type": "code",
   "execution_count": 2,
   "metadata": {},
   "outputs": [
    {
     "name": "stdout",
     "output_type": "stream",
     "text": [
      "It is a prime number\n"
     ]
    }
   ],
   "source": [
    "# Write a program that checks if a number is prime or not.\n",
    "num = int(input(\"Enter the number you want to check\"))\n",
    "if num%2 == 0 or num%3 == 0 or num%5 == 0:\n",
    "    print(\"It is not a prime number\")\n",
    "else:\n",
    "    print(\"It is a prime number\")"
   ]
  },
  {
   "cell_type": "code",
   "execution_count": 4,
   "metadata": {},
   "outputs": [
    {
     "name": "stdout",
     "output_type": "stream",
     "text": [
      "0\n",
      "5\n",
      "10\n",
      "15\n",
      "20\n",
      "25\n",
      "30\n",
      "35\n",
      "40\n",
      "45\n",
      "50\n"
     ]
    }
   ],
   "source": [
    "# Write a program that prints the multiplication table of a given number\n",
    "num = int(input(\"Enter the number\"))\n",
    "for i in range(0,11):\n",
    "    print(f\"{i*num}\")"
   ]
  },
  {
   "cell_type": "code",
   "execution_count": 7,
   "metadata": {},
   "outputs": [
    {
     "name": "stdout",
     "output_type": "stream",
     "text": [
      "6.0\n"
     ]
    }
   ],
   "source": [
    "# Write a program that finds the sum of all even numbers between 1 and n.\n",
    "num = int(input(\"Enter the nth term\"))\n",
    "if num%2 != 0:\n",
    "    num = num-1\n",
    "n = int(((num -2)/2)+1)\n",
    "sum = (n/2)*(2+num)\n",
    "print(f\"{sum}\")\n",
    "\n",
    "\n"
   ]
  },
  {
   "cell_type": "code",
   "execution_count": 16,
   "metadata": {},
   "outputs": [
    {
     "name": "stdout",
     "output_type": "stream",
     "text": [
      "321\n"
     ]
    }
   ],
   "source": [
    "# Write a program that reverses a number.\n",
    "var = input(\"Enter the number\")\n",
    "list = []\n",
    "# Taking the number and converting into a list.\n",
    "for digit in var:\n",
    "    list.append(int(digit))\n",
    "\n",
    "# print(list)\n",
    "\n",
    "#Reversing the list.\n",
    "list.reverse()\n",
    "\n",
    "# Converting the list into \n",
    "new_string = \"\"\n",
    "for num in list:\n",
    "    new_string += str(num)\n",
    "\n",
    "print(new_string)\n",
    "\n"
   ]
  },
  {
   "cell_type": "code",
   "execution_count": 22,
   "metadata": {},
   "outputs": [
    {
     "name": "stdout",
     "output_type": "stream",
     "text": [
      "No, it is not a palindrome number\n"
     ]
    }
   ],
   "source": [
    "# Palindrome checker\n",
    "var = input(\"Give me the string you want to check:\")\n",
    "\n",
    "# reverse the string \n",
    "var_rev = var[::-1]\n",
    "\n",
    "if var == var_rev:\n",
    "    print(\"It is a palindrome string\")\n",
    "else:\n",
    "    print(\"No, it is not a palindrome number\")\n",
    "    "
   ]
  },
  {
   "cell_type": "code",
   "execution_count": 24,
   "metadata": {},
   "outputs": [
    {
     "name": "stdout",
     "output_type": "stream",
     "text": [
      "Not correct. Try again, 450\n"
     ]
    }
   ],
   "source": [
    "# Write a program that generates a random number and allows the user to guess it.\n",
    "import random \n",
    "\n",
    "num = int(input(\"Enter the number that you have guessed\"))\n",
    "rand_num = random.randint(1,1000)\n",
    "\n",
    "if rand_num==num:\n",
    "    print(\"You guessed it right\")\n",
    "else:\n",
    "    print(f\"Not correct. Try again, {rand_num}\")"
   ]
  },
  {
   "cell_type": "code",
   "execution_count": 25,
   "metadata": {},
   "outputs": [
    {
     "name": "stdout",
     "output_type": "stream",
     "text": [
      "The GCD is 1\n"
     ]
    }
   ],
   "source": [
    "import math\n",
    "num1 = int(input(\"Enter the first number\"))\n",
    "num2 = int(input(\"Enter the 2nd number\"))\n",
    "res = math.gcd(num1, num2)\n",
    "print(f\"The GCD is {res}\")"
   ]
  },
  {
   "cell_type": "code",
   "execution_count": null,
   "metadata": {},
   "outputs": [],
   "source": []
  }
 ],
 "metadata": {
  "kernelspec": {
   "display_name": "Python 3",
   "language": "python",
   "name": "python3"
  },
  "language_info": {
   "codemirror_mode": {
    "name": "ipython",
    "version": 3
   },
   "file_extension": ".py",
   "mimetype": "text/x-python",
   "name": "python",
   "nbconvert_exporter": "python",
   "pygments_lexer": "ipython3",
   "version": "3.12.3"
  }
 },
 "nbformat": 4,
 "nbformat_minor": 2
}
